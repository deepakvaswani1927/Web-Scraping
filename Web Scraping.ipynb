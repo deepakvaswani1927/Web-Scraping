{
 "cells": [
  {
   "cell_type": "code",
   "execution_count": 58,
   "id": "33ff9079",
   "metadata": {},
   "outputs": [],
   "source": [
    "import numpy as np\n",
    "import pandas as pd\n",
    "import re\n",
    "import requests\n",
    "from bs4 import BeautifulSoup"
   ]
  },
  {
   "cell_type": "code",
   "execution_count": 59,
   "id": "f727c559",
   "metadata": {},
   "outputs": [],
   "source": [
    "column = ['City' ,'Experience', 'Company_Name' , 'Skills', 'More_info']\n",
    "Jobs = pd.DataFrame(columns = column)"
   ]
  },
  {
   "cell_type": "code",
   "execution_count": 60,
   "id": "aa5602cc",
   "metadata": {},
   "outputs": [
    {
     "data": {
      "text/plain": [
       "(0, 5)"
      ]
     },
     "execution_count": 60,
     "metadata": {},
     "output_type": "execute_result"
    }
   ],
   "source": [
    "Jobs.shape"
   ]
  },
  {
   "cell_type": "markdown",
   "id": "d3e4604d",
   "metadata": {},
   "source": [
    "# jobs that are posted few days ago "
   ]
  },
  {
   "cell_type": "code",
   "execution_count": 61,
   "id": "1f112978",
   "metadata": {},
   "outputs": [
    {
     "name": "stderr",
     "output_type": "stream",
     "text": [
      "C:\\Users\\DVASWANI\\AppData\\Local\\Temp\\ipykernel_12400\\234896146.py:33: FutureWarning: The frame.append method is deprecated and will be removed from pandas in a future version. Use pandas.concat instead.\n",
      "  Jobs = Jobs.append(Data, ignore_index = True)\n",
      "C:\\Users\\DVASWANI\\AppData\\Local\\Temp\\ipykernel_12400\\234896146.py:33: FutureWarning: The frame.append method is deprecated and will be removed from pandas in a future version. Use pandas.concat instead.\n",
      "  Jobs = Jobs.append(Data, ignore_index = True)\n",
      "C:\\Users\\DVASWANI\\AppData\\Local\\Temp\\ipykernel_12400\\234896146.py:33: FutureWarning: The frame.append method is deprecated and will be removed from pandas in a future version. Use pandas.concat instead.\n",
      "  Jobs = Jobs.append(Data, ignore_index = True)\n"
     ]
    }
   ],
   "source": [
    "link = \"https://www.timesjobs.com/candidate/job-search.html?searchType=personalizedSearch&from=submit&txtKeywords=python&txtLocation=\"\n",
    "html_text = requests.get(link).text\n",
    "\n",
    "soup = BeautifulSoup(html_text,\"html.parser\")\n",
    "joblist =soup.find('ul',class_='new-joblist')\n",
    "jobs = joblist.find_all('li',class_='clearfix job-bx wht-shd-bx')\n",
    "\n",
    "for job in jobs:\n",
    "    published_date = job.find('span',class_='sim-posted').span.text\n",
    "    if 'few' in published_date:\n",
    "        company_name = job.find('h3',class_='joblist-comp-name').text.strip()\n",
    "        skills_desc = job.find('ul',class_='list-job-dtl clearfix')\n",
    "        skills_desc = skills_desc.find_all('li')\n",
    "        description = skills_desc[0].text.strip()\n",
    "        #skills = skills_desc[1].text.strip()\n",
    "        skills = job.find('span', class_='srp-skills').text.strip()\n",
    "\n",
    "\n",
    "        city_exp = job.find('ul',class_='top-jd-dtl clearfix')\n",
    "        city_exp = city_exp.find_all('li')\n",
    "        experience = city_exp[0].text.strip('card_travel')\n",
    "        city = city_exp[1].text\n",
    "        \n",
    "        more_info = job.header.h2.a['href']\n",
    "#         print(f\"CITY: {city.strip('location_on')}\")\n",
    "#         print(f\"EXPERIENCE :{experience.strip('card_travel')}\")\n",
    "#         print(f\"COMPANY : {company_name}\")\n",
    "#         print(f\"SKILLS :{skills}\")  \n",
    "#         print(f\"MORE INFO: {more_info}\")      \n",
    "        \n",
    "        Data = pd.DataFrame([[city ,experience, company_name , skills, more_info]])\n",
    "        Data.columns = column\n",
    "        Jobs = Jobs.append(Data, ignore_index = True)\n",
    "\n",
    "\n"
   ]
  },
  {
   "cell_type": "code",
   "execution_count": 62,
   "id": "c5883330",
   "metadata": {
    "scrolled": true
   },
   "outputs": [
    {
     "data": {
      "text/html": [
       "<div>\n",
       "<style scoped>\n",
       "    .dataframe tbody tr th:only-of-type {\n",
       "        vertical-align: middle;\n",
       "    }\n",
       "\n",
       "    .dataframe tbody tr th {\n",
       "        vertical-align: top;\n",
       "    }\n",
       "\n",
       "    .dataframe thead th {\n",
       "        text-align: right;\n",
       "    }\n",
       "</style>\n",
       "<table border=\"1\" class=\"dataframe\">\n",
       "  <thead>\n",
       "    <tr style=\"text-align: right;\">\n",
       "      <th></th>\n",
       "      <th>City</th>\n",
       "      <th>Experience</th>\n",
       "      <th>Company_Name</th>\n",
       "      <th>Skills</th>\n",
       "      <th>More_info</th>\n",
       "    </tr>\n",
       "  </thead>\n",
       "  <tbody>\n",
       "    <tr>\n",
       "      <th>0</th>\n",
       "      <td>\\nlocation_on\\nGurgaon\\n</td>\n",
       "      <td>4 - 7 yrs</td>\n",
       "      <td>GEMINI SOFTWARE SOLUTIONS</td>\n",
       "      <td>python  ,  svn  ,  nosql  ,  python scripting ...</td>\n",
       "      <td>https://www.timesjobs.com/job-detail/qa-python...</td>\n",
       "    </tr>\n",
       "    <tr>\n",
       "      <th>1</th>\n",
       "      <td>\\nlocation_on\\nPune\\n</td>\n",
       "      <td>4 - 7 yrs</td>\n",
       "      <td>Angel and Genie</td>\n",
       "      <td>python  ,  docker  ,  messaging  ,  python scr...</td>\n",
       "      <td>https://www.timesjobs.com/job-detail/python-de...</td>\n",
       "    </tr>\n",
       "    <tr>\n",
       "      <th>2</th>\n",
       "      <td>\\nlocation_on\\nBengaluru / Bangalore\\n</td>\n",
       "      <td>4 - 5 yrs</td>\n",
       "      <td>toolyt</td>\n",
       "      <td>algorithms  ,  python  ,  machine learning  , ...</td>\n",
       "      <td>https://www.timesjobs.com/job-detail/python-de...</td>\n",
       "    </tr>\n",
       "  </tbody>\n",
       "</table>\n",
       "</div>"
      ],
      "text/plain": [
       "                                     City Experience  \\\n",
       "0                \\nlocation_on\\nGurgaon\\n  4 - 7 yrs   \n",
       "1                   \\nlocation_on\\nPune\\n  4 - 7 yrs   \n",
       "2  \\nlocation_on\\nBengaluru / Bangalore\\n  4 - 5 yrs   \n",
       "\n",
       "                Company_Name  \\\n",
       "0  GEMINI SOFTWARE SOLUTIONS   \n",
       "1            Angel and Genie   \n",
       "2                     toolyt   \n",
       "\n",
       "                                              Skills  \\\n",
       "0  python  ,  svn  ,  nosql  ,  python scripting ...   \n",
       "1  python  ,  docker  ,  messaging  ,  python scr...   \n",
       "2  algorithms  ,  python  ,  machine learning  , ...   \n",
       "\n",
       "                                           More_info  \n",
       "0  https://www.timesjobs.com/job-detail/qa-python...  \n",
       "1  https://www.timesjobs.com/job-detail/python-de...  \n",
       "2  https://www.timesjobs.com/job-detail/python-de...  "
      ]
     },
     "execution_count": 62,
     "metadata": {},
     "output_type": "execute_result"
    }
   ],
   "source": [
    "Jobs.head()\n"
   ]
  },
  {
   "cell_type": "code",
   "execution_count": 42,
   "id": "379620c2",
   "metadata": {},
   "outputs": [],
   "source": [
    "Jobs.to_csv(\"jobs_Scraped.csv\", index = None)"
   ]
  },
  {
   "cell_type": "code",
   "execution_count": null,
   "id": "be3ed083",
   "metadata": {},
   "outputs": [],
   "source": [
    "      "
   ]
  }
 ],
 "metadata": {
  "kernelspec": {
   "display_name": "Python 3 (ipykernel)",
   "language": "python",
   "name": "python3"
  },
  "language_info": {
   "codemirror_mode": {
    "name": "ipython",
    "version": 3
   },
   "file_extension": ".py",
   "mimetype": "text/x-python",
   "name": "python",
   "nbconvert_exporter": "python",
   "pygments_lexer": "ipython3",
   "version": "3.9.12"
  }
 },
 "nbformat": 4,
 "nbformat_minor": 5
}
